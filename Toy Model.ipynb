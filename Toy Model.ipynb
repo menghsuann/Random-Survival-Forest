{
 "cells": [
  {
   "cell_type": "code",
   "execution_count": 1,
   "metadata": {},
   "outputs": [],
   "source": [
    "import pandas as pd\n",
    "import numpy as np\n",
    "import matplotlib.pyplot as plt\n",
    "import seaborn as sns\n",
    "from collections import defaultdict\n",
    "import pickle\n",
    "\n",
    "from sksurv.ensemble import RandomSurvivalForest\n",
    "from sksurv.nonparametric import kaplan_meier_estimator\n",
    "\n",
    "import warnings\n",
    "warnings.simplefilter(action='ignore', category=FutureWarning)\n",
    "\n",
    "%matplotlib inline\n",
    "sns.set()"
   ]
  },
  {
   "cell_type": "markdown",
   "metadata": {},
   "source": [
    "Toy model to use for building out other functionality (cash flow projects, monte carlo simulation, etc.)."
   ]
  },
  {
   "cell_type": "code",
   "execution_count": 2,
   "metadata": {},
   "outputs": [],
   "source": [
    "X_file = '../../Data/X_train.csv'\n",
    "y_file = '../../Data/y_train.csv'\n",
    "\n",
    "X = pd.read_csv(X_file, compression='gzip', index_col=0).reset_index(drop=True)\n",
    "y = pd.read_csv(y_file, compression='gzip', index_col=0).reset_index(drop=True)"
   ]
  },
  {
   "cell_type": "code",
   "execution_count": 3,
   "metadata": {},
   "outputs": [
    {
     "name": "stdout",
     "output_type": "stream",
     "text": [
      "<class 'pandas.core.frame.DataFrame'>\n",
      "RangeIndex: 2146853 entries, 0 to 2146852\n",
      "Columns: 130 entries, id to application_type_Joint App\n",
      "dtypes: float64(14), int64(113), object(3)\n",
      "memory usage: 2.1+ GB\n"
     ]
    }
   ],
   "source": [
    "X.info()"
   ]
  },
  {
   "cell_type": "code",
   "execution_count": 4,
   "metadata": {},
   "outputs": [
    {
     "name": "stdout",
     "output_type": "stream",
     "text": [
      "<class 'pandas.core.frame.DataFrame'>\n",
      "RangeIndex: 2146853 entries, 0 to 2146852\n",
      "Data columns (total 4 columns):\n",
      " #   Column         Dtype\n",
      "---  ------         -----\n",
      " 0   id             int64\n",
      " 1   default        bool \n",
      " 2   prepaid        bool \n",
      " 3   survival_time  int64\n",
      "dtypes: bool(2), int64(2)\n",
      "memory usage: 36.9 MB\n"
     ]
    }
   ],
   "source": [
    "y.info()"
   ]
  },
  {
   "cell_type": "code",
   "execution_count": 5,
   "metadata": {},
   "outputs": [],
   "source": [
    "# use a sample of the data set to build the toy model\n",
    "n_records = 50000\n",
    "index_vals = X.loc[X['term'] == 36].index[:n_records]\n",
    "feature_cols = [col for col in X.columns if col.startswith('grade_')]\n",
    "\n",
    "X = X.loc[index_vals, feature_cols].copy()\n",
    "y = y.loc[index_vals, :].copy()"
   ]
  },
  {
   "cell_type": "code",
   "execution_count": 6,
   "metadata": {},
   "outputs": [
    {
     "data": {
      "image/png": "[encoded data removed]",
      "text/plain": [
       "<Figure size 1080x432 with 2 Axes>"
      ]
     },
     "metadata": {},
     "output_type": "display_data"
    }
   ],
   "source": [
    "# plot the KM survival curves for the sample data\n",
    "fig, ax = plt.subplots(1, 2, figsize=(15, 6))\n",
    "\n",
    "time, default_surv = kaplan_meier_estimator(y['default'], y['survival_time'])\n",
    "ax[0].step(time, default_surv)\n",
    "ax[0].set_title('KM Survival Curve - Defaults')\n",
    "ax[0].set_ylabel(\"est. probability of survival $\\hat{S}(t)$\")\n",
    "ax[0].set_xlabel(\"time $t$\")\n",
    "\n",
    "time, prepaid_surv = kaplan_meier_estimator(y['prepaid'], y['survival_time'])\n",
    "ax[1].step(time, prepaid_surv)\n",
    "ax[1].set_title('KM Survival Curve - Prepayments')\n",
    "ax[1].set_ylabel(\"est. probability of survival $\\hat{S}(t)$\")\n",
    "ax[1].set_xlabel(\"time $t$\")\n",
    "\n",
    "plt.show()"
   ]
  },
  {
   "cell_type": "markdown",
   "metadata": {},
   "source": [
    "The large tails on the curves after 36 months are due to the loans that run past 36 months, but that don't default (e.g., loans with late payments)."
   ]
  },
  {
   "cell_type": "code",
   "execution_count": 7,
   "metadata": {},
   "outputs": [
    {
     "data": {
      "text/plain": [
       "count    50000.000000\n",
       "mean        19.471120\n",
       "std         11.301434\n",
       "min          0.000000\n",
       "25%         10.000000\n",
       "50%         18.000000\n",
       "75%         30.000000\n",
       "max         65.000000\n",
       "Name: survival_time, dtype: float64"
      ]
     },
     "execution_count": 7,
     "metadata": {},
     "output_type": "execute_result"
    }
   ],
   "source": [
    "y['survival_time'].describe()"
   ]
  },
  {
   "cell_type": "code",
   "execution_count": 8,
   "metadata": {},
   "outputs": [],
   "source": [
    "def get_y(df, status_col, time_col):\n",
    "    t = df.loc[:, time_col].to_list()\n",
    "    s = df.loc[:, status_col].to_list()\n",
    "    \n",
    "    return np.array(list(zip(s, t)), dtype='bool, f8')"
   ]
  },
  {
   "cell_type": "code",
   "execution_count": 9,
   "metadata": {
    "scrolled": true
   },
   "outputs": [
    {
     "data": {
      "text/plain": [
       "RandomSurvivalForest(max_features='sqrt', min_samples_leaf=15,\n",
       "                     min_samples_split=10, n_estimators=1000, n_jobs=-1,\n",
       "                     random_state=1234)"
      ]
     },
     "execution_count": 9,
     "metadata": {},
     "output_type": "execute_result"
    }
   ],
   "source": [
    "rsf_default = RandomSurvivalForest(n_estimators=1000,\n",
    "                                   min_samples_split=10,\n",
    "                                   min_samples_leaf=15,\n",
    "                                   max_features='sqrt',\n",
    "                                   n_jobs=-1,\n",
    "                                   random_state=1234)\n",
    "\n",
    "default_y = get_y(y, 'default', 'survival_time')\n",
    "rsf_default.fit(X, default_y)"
   ]
  },
  {
   "cell_type": "code",
   "execution_count": 10,
   "metadata": {},
   "outputs": [
    {
     "data": {
      "text/plain": [
       "RandomSurvivalForest(max_features='sqrt', min_samples_leaf=15,\n",
       "                     min_samples_split=10, n_estimators=1000, n_jobs=-1,\n",
       "                     random_state=1234)"
      ]
     },
     "execution_count": 10,
     "metadata": {},
     "output_type": "execute_result"
    }
   ],
   "source": [
    "rsf_prepaid = RandomSurvivalForest(n_estimators=1000,\n",
    "                                   min_samples_split=10,\n",
    "                                   min_samples_leaf=15,\n",
    "                                   max_features='sqrt',\n",
    "                                   n_jobs=-1,\n",
    "                                   random_state=1234)\n",
    "\n",
    "prepaid_y = get_y(y, 'prepaid', 'survival_time')\n",
    "rsf_prepaid.fit(X, prepaid_y)"
   ]
  },
  {
   "cell_type": "code",
   "execution_count": 11,
   "metadata": {},
   "outputs": [],
   "source": [
    "surv_pred_default = rsf_default.predict_survival_function(X, return_array=True)\n",
    "surv_pred_default = surv_pred_default.mean(axis=0)\n",
    "\n",
    "surv_pred_prepaid = rsf_prepaid.predict_survival_function(X, return_array=True)\n",
    "surv_pred_prepaid = surv_pred_prepaid.mean(axis=0)"
   ]
  },
  {
   "cell_type": "code",
   "execution_count": 12,
   "metadata": {},
   "outputs": [
    {
     "data": {
      "image/png": "[encoded data removed]",
      "text/plain": [
       "<Figure size 1080x432 with 2 Axes>"
      ]
     },
     "metadata": {},
     "output_type": "display_data"
    }
   ],
   "source": [
    "# plot the predicted survival curves next to the KM survival curves \n",
    "# for the sample data\n",
    "# don't really care about performance here - just want to make sure \n",
    "# we have a \"reasonable\" model\n",
    "fig, ax = plt.subplots(1, 2, figsize=(15, 6))\n",
    "\n",
    "time, default_surv = kaplan_meier_estimator(y['default'], y['survival_time'])\n",
    "ax[0].step(time, default_surv, label='Actual')\n",
    "\n",
    "ax[0].step(list(range(1, len(surv_pred_default) + 1)), surv_pred_default, \n",
    "           label='Predicted')\n",
    "\n",
    "ax[0].set_title('KM Survival Curve - Defaults')\n",
    "ax[0].set_ylabel(\"est. probability of survival $\\hat{S}(t)$\")\n",
    "ax[0].set_xlabel(\"time $t$\")\n",
    "ax[0].legend(loc='best')\n",
    "\n",
    "time, prepaid_surv = kaplan_meier_estimator(y['prepaid'], y['survival_time'])\n",
    "ax[1].step(time, prepaid_surv, label='Actual')\n",
    "\n",
    "ax[1].step(list(range(1, len(surv_pred_prepaid) + 1)), surv_pred_prepaid, \n",
    "           label='Predicted')\n",
    "\n",
    "ax[1].set_title('KM Survival Curve - Prepayments')\n",
    "ax[1].set_ylabel(\"est. probability of survival $\\hat{S}(t)$\")\n",
    "ax[1].set_xlabel(\"time $t$\")\n",
    "ax[1].legend(loc='best')\n",
    "\n",
    "plt.show()"
   ]
  },
  {
   "cell_type": "markdown",
   "metadata": {},
   "source": [
    "As expected, the models work well on the same data set that they were trained on. Save the models since they output valid survival curves."
   ]
  },
  {
   "cell_type": "code",
   "execution_count": 13,
   "metadata": {},
   "outputs": [],
   "source": [
    "# save the two models\n",
    "with open('default_model.pkl', 'wb') as f:\n",
    "    pickle.dump(rsf_default, f)    \n",
    "    \n",
    "with open('prepayment_model.pkl', 'wb') as f:\n",
    "    pickle.dump(rsf_prepaid, f)  "
   ]
  }
 ],
 "metadata": {
  "kernelspec": {
   "display_name": "Python 3",
   "language": "python",
   "name": "python3"
  },
  "language_info": {
   "codemirror_mode": {
    "name": "ipython",
    "version": 3
   },
   "file_extension": ".py",
   "mimetype": "text/x-python",
   "name": "python",
   "nbconvert_exporter": "python",
   "pygments_lexer": "ipython3",
   "version": "3.8.5"
  }
 },
 "nbformat": 4,
 "nbformat_minor": 4
}
