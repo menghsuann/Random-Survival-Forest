{
 "cells": [
  {
   "cell_type": "code",
   "execution_count": 34,
   "metadata": {},
   "outputs": [],
   "source": [
    "import pandas as pd\n",
    "import numpy as np\n",
    "from sksurv.ensemble import RandomSurvivalForest\n",
    "random_state_seed = 98\n",
    "from sklearn.ensemble import RandomForestRegressor"
   ]
  },
  {
   "cell_type": "code",
   "execution_count": 35,
   "metadata": {},
   "outputs": [],
   "source": [
    "x_train = pd.read_csv('Xtrain.csv')\n",
    "#print(x_train.shape)\n",
    "x_train.drop(columns=[u'Unnamed: 0'], inplace=True)\n",
    "y_train = pd.read_csv('ytrain.csv')\n",
    "#print(y_train.shape)\n",
    "#print(y_train.head())\n",
    "y_train.drop(columns=[u'Unnamed: 0'], inplace=True)\n",
    "#print(y_train.head())\n",
    "y_train['loan_charged_off'] = x_train['loan_charged_off'] + x_train['loan_default']\n",
    "#print(y_train.head())\n",
    "yy = y_train\n",
    "yy = yy.apply(lambda x: (x[1], x[0]), axis=1)\n",
    "#y_train = y_train.apply(lambda x: (x[1], x[0]), axis=1)\n",
    "y_train.drop(columns=['default_time'],inplace=True)\n",
    "#print(y_train.head())\n",
    "x_train.drop(columns=[u'loan_charged_off', u'loan_default'], inplace=True)"
   ]
  },
  {
   "cell_type": "code",
   "execution_count": 36,
   "metadata": {},
   "outputs": [
    {
     "name": "stdout",
     "output_type": "stream",
     "text": [
      "(1484538, 98)\n",
      "(1484538, 1)\n"
     ]
    }
   ],
   "source": [
    "print(x_train.shape)\n",
    "print(y_train.shape)"
   ]
  },
  {
   "cell_type": "code",
   "execution_count": 37,
   "metadata": {},
   "outputs": [],
   "source": [
    "XX=x_train.iloc[0:5000,:]\n",
    "YY=yy[0:5000]"
   ]
  },
  {
   "cell_type": "code",
   "execution_count": 39,
   "metadata": {},
   "outputs": [
    {
     "name": "stderr",
     "output_type": "stream",
     "text": [
      "[Parallel(n_jobs=-1)]: Using backend ThreadingBackend with 4 concurrent workers.\n",
      "[Parallel(n_jobs=-1)]: Done  42 tasks      | elapsed:    3.8s\n",
      "[Parallel(n_jobs=-1)]: Done 100 out of 100 | elapsed:    8.3s finished\n",
      "[Parallel(n_jobs=4)]: Using backend ThreadingBackend with 4 concurrent workers.\n",
      "[Parallel(n_jobs=4)]: Done  42 tasks      | elapsed:   21.2s\n",
      "[Parallel(n_jobs=4)]: Done 100 out of 100 | elapsed:   48.5s finished\n"
     ]
    },
    {
     "data": {
      "text/plain": [
       "0.5637949866635488"
      ]
     },
     "execution_count": 39,
     "metadata": {},
     "output_type": "execute_result"
    }
   ],
   "source": [
    "rsf = RandomSurvivalForest(n_estimators=100,\n",
    "                           min_samples_split=10,\n",
    "                           min_samples_leaf=15,\n",
    "                           max_features=\"sqrt\",\n",
    "                           n_jobs=-1,\n",
    "                           random_state=random_state_seed, verbose=True)\n",
    "rsf.fit(XX, np.array(list(YY), dtype=[('bb', np.bool_), ('ii', int)]))\n",
    "rsf.score(XXT, np.array(list(YYt), dtype=[('bb', np.bool_), ('ii', int)]))"
   ]
  },
  {
   "cell_type": "code",
   "execution_count": 40,
   "metadata": {},
   "outputs": [
    {
     "name": "stderr",
     "output_type": "stream",
     "text": [
      "[Parallel(n_jobs=-1)]: Using backend ThreadingBackend with 4 concurrent workers.\n",
      "[Parallel(n_jobs=-1)]: Done  42 tasks      | elapsed:    2.9s\n",
      "[Parallel(n_jobs=-1)]: Done 100 out of 100 | elapsed:    6.8s finished\n",
      "[Parallel(n_jobs=4)]: Using backend ThreadingBackend with 4 concurrent workers.\n",
      "[Parallel(n_jobs=4)]: Done  42 tasks      | elapsed:   21.5s\n",
      "[Parallel(n_jobs=4)]: Done 100 out of 100 | elapsed:   50.8s finished\n"
     ]
    },
    {
     "data": {
      "text/plain": [
       "0.5559514036997744"
      ]
     },
     "execution_count": 40,
     "metadata": {},
     "output_type": "execute_result"
    }
   ],
   "source": [
    "#adding max_depth=10\n",
    "rsf = RandomSurvivalForest(n_estimators=100,\n",
    "                           min_samples_split=10,\n",
    "                           min_samples_leaf=15,\n",
    "                           max_depth=10,\n",
    "                           max_features=\"sqrt\",\n",
    "                           n_jobs=-1,\n",
    "                           random_state=random_state_seed, verbose=True)\n",
    "rsf.fit(XX, np.array(list(YY), dtype=[('bb', np.bool_), ('ii', int)]))\n",
    "rsf.score(XXT, np.array(list(YYt), dtype=[('bb', np.bool_), ('ii', int)]))"
   ]
  },
  {
   "cell_type": "code",
   "execution_count": 42,
   "metadata": {},
   "outputs": [
    {
     "name": "stderr",
     "output_type": "stream",
     "text": [
      "[Parallel(n_jobs=-1)]: Using backend ThreadingBackend with 4 concurrent workers.\n",
      "[Parallel(n_jobs=-1)]: Done  42 tasks      | elapsed:    3.4s\n",
      "[Parallel(n_jobs=-1)]: Done 100 out of 100 | elapsed:    7.9s finished\n",
      "[Parallel(n_jobs=4)]: Using backend ThreadingBackend with 4 concurrent workers.\n",
      "[Parallel(n_jobs=4)]: Done  42 tasks      | elapsed:   20.1s\n",
      "[Parallel(n_jobs=4)]: Done 100 out of 100 | elapsed:   46.2s finished\n"
     ]
    },
    {
     "data": {
      "text/plain": [
       "0.5637949866635488"
      ]
     },
     "execution_count": 42,
     "metadata": {},
     "output_type": "execute_result"
    }
   ],
   "source": [
    "#adding max_depth=100\n",
    "rsf = RandomSurvivalForest(n_estimators=100,\n",
    "                           min_samples_split=10,\n",
    "                           min_samples_leaf=15,\n",
    "                           max_depth=100,\n",
    "                           max_features=\"sqrt\",\n",
    "                           n_jobs=-1,\n",
    "                           random_state=random_state_seed, verbose=True)\n",
    "rsf.fit(XX, np.array(list(YY), dtype=[('bb', np.bool_), ('ii', int)]))\n",
    "rsf.score(XXT, np.array(list(YYt), dtype=[('bb', np.bool_), ('ii', int)]))"
   ]
  },
  {
   "cell_type": "code",
   "execution_count": 41,
   "metadata": {},
   "outputs": [
    {
     "name": "stderr",
     "output_type": "stream",
     "text": [
      "[Parallel(n_jobs=-1)]: Using backend ThreadingBackend with 4 concurrent workers.\n",
      "[Parallel(n_jobs=-1)]: Done  42 tasks      | elapsed:    3.4s\n",
      "[Parallel(n_jobs=-1)]: Done 192 tasks      | elapsed:   15.0s\n",
      "[Parallel(n_jobs=-1)]: Done 442 tasks      | elapsed:   34.2s\n",
      "[Parallel(n_jobs=-1)]: Done 792 tasks      | elapsed:  1.0min\n",
      "[Parallel(n_jobs=-1)]: Done 1000 out of 1000 | elapsed:  1.3min finished\n",
      "[Parallel(n_jobs=4)]: Using backend ThreadingBackend with 4 concurrent workers.\n",
      "[Parallel(n_jobs=4)]: Done  42 tasks      | elapsed:   19.5s\n",
      "[Parallel(n_jobs=4)]: Done 192 tasks      | elapsed:  1.6min\n",
      "[Parallel(n_jobs=4)]: Done 442 tasks      | elapsed:  3.5min\n",
      "[Parallel(n_jobs=4)]: Done 792 tasks      | elapsed:  6.2min\n",
      "[Parallel(n_jobs=4)]: Done 1000 out of 1000 | elapsed:  7.8min finished\n"
     ]
    },
    {
     "data": {
      "text/plain": [
       "0.5666083625881031"
      ]
     },
     "execution_count": 41,
     "metadata": {},
     "output_type": "execute_result"
    }
   ],
   "source": [
    "#changing n_estimators=1000\n",
    "rsf = RandomSurvivalForest(n_estimators=1000,\n",
    "                           min_samples_split=10,\n",
    "                           min_samples_leaf=15,\n",
    "                           #max_depth=\n",
    "                           max_features=\"sqrt\",\n",
    "                           n_jobs=-1,\n",
    "                           random_state=random_state_seed, verbose=True)\n",
    "rsf.fit(XX, np.array(list(YY), dtype=[('bb', np.bool_), ('ii', int)]))\n",
    "rsf.score(XXT, np.array(list(YYt), dtype=[('bb', np.bool_), ('ii', int)]))"
   ]
  },
  {
   "cell_type": "code",
   "execution_count": 43,
   "metadata": {},
   "outputs": [
    {
     "name": "stderr",
     "output_type": "stream",
     "text": [
      "[Parallel(n_jobs=-1)]: Using backend ThreadingBackend with 4 concurrent workers.\n",
      "[Parallel(n_jobs=-1)]: Done  42 tasks      | elapsed:    1.9s\n",
      "[Parallel(n_jobs=-1)]: Done 100 out of 100 | elapsed:    4.8s finished\n",
      "[Parallel(n_jobs=4)]: Using backend ThreadingBackend with 4 concurrent workers.\n",
      "[Parallel(n_jobs=4)]: Done  42 tasks      | elapsed:   20.0s\n",
      "[Parallel(n_jobs=4)]: Done 100 out of 100 | elapsed:   45.9s finished\n"
     ]
    },
    {
     "data": {
      "text/plain": [
       "0.5531652127360407"
      ]
     },
     "execution_count": 43,
     "metadata": {},
     "output_type": "execute_result"
    }
   ],
   "source": [
    "#adding max_depth=5\n",
    "rsf = RandomSurvivalForest(n_estimators=100,\n",
    "                           min_samples_split=10,\n",
    "                           min_samples_leaf=15,\n",
    "                           max_depth=5,\n",
    "                           max_features=\"sqrt\",\n",
    "                           n_jobs=-1,\n",
    "                           random_state=random_state_seed, verbose=True)\n",
    "rsf.fit(XX, np.array(list(YY), dtype=[('bb', np.bool_), ('ii', int)]))\n",
    "rsf.score(XXT, np.array(list(YYt), dtype=[('bb', np.bool_), ('ii', int)]))"
   ]
  },
  {
   "cell_type": "code",
   "execution_count": null,
   "metadata": {},
   "outputs": [
    {
     "name": "stderr",
     "output_type": "stream",
     "text": [
      "[Parallel(n_jobs=-1)]: Using backend ThreadingBackend with 4 concurrent workers.\n",
      "[Parallel(n_jobs=-1)]: Done  42 tasks      | elapsed:    2.9s\n",
      "[Parallel(n_jobs=-1)]: Done 100 out of 100 | elapsed:    6.1s finished\n",
      "[Parallel(n_jobs=4)]: Using backend ThreadingBackend with 4 concurrent workers.\n",
      "[Parallel(n_jobs=4)]: Done  42 tasks      | elapsed:   20.4s\n",
      "[Parallel(n_jobs=4)]: Done 100 out of 100 | elapsed:   46.7s finished\n"
     ]
    }
   ],
   "source": [
    "#min_samples_leaf=50\n",
    "rsf = RandomSurvivalForest(n_estimators=100,\n",
    "                           min_samples_split=10,\n",
    "                           min_samples_leaf=50,\n",
    "                           max_features=\"sqrt\",\n",
    "                           n_jobs=-1,\n",
    "                           random_state=random_state_seed, verbose=True)\n",
    "rsf.fit(XX, np.array(list(YY), dtype=[('bb', np.bool_), ('ii', int)]))\n",
    "rsf.score(XXT, np.array(list(YYt), dtype=[('bb', np.bool_), ('ii', int)]))"
   ]
  },
  {
   "cell_type": "markdown",
   "metadata": {},
   "source": [
    "Testing paramters with 5000 training data and verbose:\n",
    "1. max_depth: could change to 5\n",
    "2. try with more trees, n_estimators=1000: run even slower. shoudl still be 100\n",
    "3. max_features: should still be sqrt \n",
    "4. min_samples_leaf: could change to 50\n",
    "5. but the scores across different scenario are pretty similiar. not sure which is the best one?\n",
    "\n",
    "#reference: https://www.analyticsvidhya.com/blog/2015/06/tuning-random-forest-model/"
   ]
  },
  {
   "cell_type": "code",
   "execution_count": 9,
   "metadata": {},
   "outputs": [
    {
     "name": "stdout",
     "output_type": "stream",
     "text": [
      "(371135, 101)\n",
      "(371135, 2)\n"
     ]
    }
   ],
   "source": [
    "X_test = pd.read_csv('Xtest.csv')\n",
    "y_test = pd.read_csv('ytest.csv')\n",
    "print(X_test.shape)\n",
    "X_test.drop(columns=[u'Unnamed: 0'], inplace=True)\n",
    "print(y_test.shape)\n",
    "#print(y_test.head())\n",
    "y_test.drop(columns=[u'Unnamed: 0'], inplace=True)\n",
    "#print(y_test.head())\n",
    "y_test['loan_charged_off'] = X_test['loan_charged_off'] + X_test['loan_default']\n",
    "#print(y_test.head())\n",
    "yyt = y_test\n",
    "yyt = yyt.apply(lambda x: (x[1], x[0]), axis=1)\n",
    "#y_train = y_train.apply(lambda x: (x[1], x[0]), axis=1)\n",
    "y_test.drop(columns=['default_time'],inplace=True)\n",
    "#print(y_test.head())\n",
    "X_test.drop(columns=[u'loan_charged_off', u'loan_default'], inplace=True)"
   ]
  },
  {
   "cell_type": "code",
   "execution_count": 10,
   "metadata": {},
   "outputs": [],
   "source": [
    "XXT=X_test\n",
    "YYt=yyt"
   ]
  },
  {
   "cell_type": "code",
   "execution_count": 13,
   "metadata": {},
   "outputs": [],
   "source": [
    "surv_pred_default = rsf.predict_survival_function(XXT, return_array=True)"
   ]
  },
  {
   "cell_type": "code",
   "execution_count": 14,
   "metadata": {},
   "outputs": [
    {
     "name": "stdout",
     "output_type": "stream",
     "text": [
      "[[9.99318097e-01 9.93851420e-01 9.80797826e-01 ... 0.00000000e+00\n",
      "  0.00000000e+00 0.00000000e+00]\n",
      " [9.98334751e-01 9.94529887e-01 9.94529887e-01 ... 5.47597716e-03\n",
      "  3.51480058e-03 0.00000000e+00]\n",
      " [9.99240590e-01 9.96959747e-01 9.96959747e-01 ... 6.76510116e-04\n",
      "  3.40136054e-04 0.00000000e+00]\n",
      " ...\n",
      " [9.91159221e-01 9.85468942e-01 9.81138282e-01 ... 0.00000000e+00\n",
      "  0.00000000e+00 0.00000000e+00]\n",
      " [9.98990984e-01 9.96014283e-01 9.94742695e-01 ... 0.00000000e+00\n",
      "  0.00000000e+00 0.00000000e+00]\n",
      " [9.97243725e-01 9.97243725e-01 9.97243725e-01 ... 7.28921376e-03\n",
      "  6.73731031e-03 0.00000000e+00]]\n"
     ]
    }
   ],
   "source": [
    "print(surv_pred_default)"
   ]
  },
  {
   "cell_type": "code",
   "execution_count": null,
   "metadata": {},
   "outputs": [],
   "source": []
  }
 ],
 "metadata": {
  "kernelspec": {
   "display_name": "Python 3",
   "language": "python",
   "name": "python3"
  },
  "language_info": {
   "codemirror_mode": {
    "name": "ipython",
    "version": 3
   },
   "file_extension": ".py",
   "mimetype": "text/x-python",
   "name": "python",
   "nbconvert_exporter": "python",
   "pygments_lexer": "ipython3",
   "version": "3.8.5"
  }
 },
 "nbformat": 4,
 "nbformat_minor": 4
}
